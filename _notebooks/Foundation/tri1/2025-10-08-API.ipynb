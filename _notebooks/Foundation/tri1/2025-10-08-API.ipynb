{
 "cells": [
  {
   "cell_type": "markdown",
   "id": "557ab0cb",
   "metadata": {},
   "source": [
    "---\n",
    "title: Casting and Range of Variables\n",
    "description: Student Teaching Lesson\n",
    "layout: post\n",
    "type: hacks\n",
    "comments: true\n",
    "toc: false\n",
    "courses: { compsci: {week: 8} }\n",
    "Author: Nolan, Yash, Yuva\n",
    "---"
   ]
  },
  {
   "cell_type": "markdown",
   "id": "52e06c68",
   "metadata": {},
   "source": [
    "# Popcorn Hack 1"
   ]
  },
  {
   "cell_type": "code",
   "execution_count": null,
   "id": "2d3542f5",
   "metadata": {
    "vscode": {
     "languageId": "java"
    }
   },
   "outputs": [
    {
     "name": "stdout",
     "output_type": "stream",
     "text": [
      "3^4 = 81.0\n",
      "√64 = 8.0\n",
      "Number of colors in the list: 3\n"
     ]
    }
   ],
   "source": [
    "import java.util.ArrayList;\n",
    "\n",
    "public class PopcornHack1 {\n",
    "    public static void main(String[] args) {\n",
    "        // Use Math.pow() to calculate 3^4\n",
    "        double powerResult = Math.pow(3, 4);\n",
    "        System.out.println(\"3^4 = \" + powerResult);\n",
    "\n",
    "        // Use Math.sqrt() to find the square root of 64\n",
    "        double squareRootResult = Math.sqrt(64);\n",
    "        System.out.println(\"√64 = \" + squareRootResult);\n",
    "\n",
    "        // Create an ArrayList of Strings\n",
    "        ArrayList<String> colors = new ArrayList<>();\n",
    "\n",
    "        // Add 3 colors (\"red\", \"blue\", \"green\")\n",
    "        colors.add(\"red\");\n",
    "        colors.add(\"blue\");\n",
    "        colors.add(\"green\");\n",
    "\n",
    "        // Print the size of the ArrayList\n",
    "        System.out.println(\"Number of colors in the list: \" + colors.size());\n",
    "    }\n",
    "}\n",
    "\n",
    "PopcornHack1.main(null);\n"
   ]
  },
  {
   "cell_type": "markdown",
   "id": "816c3d48",
   "metadata": {},
   "source": [
    "# Popcorn Hack 2"
   ]
  },
  {
   "cell_type": "code",
   "execution_count": 4,
   "id": "3eaf7d72",
   "metadata": {
    "vscode": {
     "languageId": "java"
    }
   },
   "outputs": [
    {
     "name": "stdout",
     "output_type": "stream",
     "text": [
      "Book Information:\n",
      "Title: Java Basics\n",
      "Author: John Doe\n",
      "Pages: 350\n",
      "Is this book long? true\n"
     ]
    }
   ],
   "source": [
    "public class Book {\n",
    "    // Attributes\n",
    "    String title;\n",
    "    String author;\n",
    "    int pages;\n",
    "\n",
    "    // Constructor to set all attributes\n",
    "    public Book(String title, String author, int pages) {\n",
    "        this.title = title;\n",
    "        this.author = author;\n",
    "        this.pages = pages;\n",
    "    }\n",
    "\n",
    "    // displayInfo() method - prints all book info\n",
    "    public void displayInfo() {\n",
    "        System.out.println(\"Book Information:\");\n",
    "        System.out.println(\"Title: \" + title);\n",
    "        System.out.println(\"Author: \" + author);\n",
    "        System.out.println(\"Pages: \" + pages);\n",
    "    }\n",
    "\n",
    "    // isLong() method - returns true if pages > 300\n",
    "    public boolean isLong() {\n",
    "        return pages > 300;\n",
    "    }\n",
    "\n",
    "    // Main method to test Book class\n",
    "    public static void main(String[] args) {\n",
    "        // Create a Book object\n",
    "        Book myBook = new Book(\"Java Basics\", \"John Doe\", 350);\n",
    "\n",
    "        // Call displayInfo()\n",
    "        myBook.displayInfo();\n",
    "\n",
    "        // Call isLong() and print the result\n",
    "        System.out.println(\"Is this book long? \" + myBook.isLong());\n",
    "    }\n",
    "}\n",
    "Book.main(null);"
   ]
  },
  {
   "cell_type": "markdown",
   "id": "f367139d",
   "metadata": {},
   "source": [
    "---"
   ]
  },
  {
   "cell_type": "markdown",
   "id": "9e84c5bf",
   "metadata": {},
   "source": [
    "# Homework Hack"
   ]
  },
  {
   "cell_type": "code",
   "execution_count": 7,
   "id": "2e303e94",
   "metadata": {
    "vscode": {
     "languageId": "java"
    }
   },
   "outputs": [
    {
     "name": "stdout",
     "output_type": "stream",
     "text": [
      "👤 Contact added: Nolan\n",
      "👤 Contact added: Yash\n",
      "👤 Contact added: Yuva\n",
      "👤 Contact added: Nora\n",
      "👤 Contact added: Soni\n",
      "👤 Contact added: Avika\n",
      "\n",
      "Used phone for 25 minutes. Battery now: 75%\n",
      "Used phone for 40 minutes. Battery now: 60%\n",
      "\n",
      "Phone Info:\n",
      "Brand: Apple\n",
      "Model: iPhone 15\n",
      "Battery Level: 75%\n",
      "Contacts for Apple iPhone 15:\n",
      "- Nolan\n",
      "- Yash\n",
      "- Yuva\n",
      "\n",
      "Phone Info:\n",
      "Brand: Samsung\n",
      "Model: Galaxy S24\n",
      "Battery Level: 60%\n",
      "Contacts for Samsung Galaxy S24:\n",
      "- Nora\n",
      "- Soni\n",
      "- Avika\n"
     ]
    }
   ],
   "source": [
    "import java.util.ArrayList;\n",
    "\n",
    "// Phone Class\n",
    "public class Phone {\n",
    "    // Attributes\n",
    "    String brand;\n",
    "    String model;\n",
    "    int batteryLevel;\n",
    "    ArrayList<String> contacts;\n",
    "\n",
    "    // Constructor - sets brand, model, and initializes battery and contacts list\n",
    "    public Phone(String brand, String model) {\n",
    "        this.brand = brand;\n",
    "        this.model = model;\n",
    "        this.batteryLevel = 100;           // starts at 100%\n",
    "        this.contacts = new ArrayList<>(); // empty contact list\n",
    "    }\n",
    "\n",
    "    // displayInfo() - print phone info\n",
    "    public void displayInfo() {\n",
    "        System.out.println(\"Phone Info:\");\n",
    "        System.out.println(\"Brand: \" + brand);\n",
    "        System.out.println(\"Model: \" + model);\n",
    "        System.out.println(\"Battery Level: \" + batteryLevel + \"%\");\n",
    "    }\n",
    "\n",
    "    // addContact(String name) - adds name to contacts\n",
    "    public void addContact(String name) {\n",
    "        contacts.add(name);\n",
    "        System.out.println(\"👤 Contact added: \" + name);\n",
    "    }\n",
    "\n",
    "    // showContacts() - print all contacts\n",
    "    public void showContacts() {\n",
    "        System.out.println(\"Contacts for \" + brand + \" \" + model + \":\");\n",
    "        if (contacts.isEmpty()) {\n",
    "            System.out.println(\"(No contacts saved)\");\n",
    "        } else {\n",
    "            for (String contact : contacts) {\n",
    "                System.out.println(\"- \" + contact);\n",
    "            }\n",
    "        }\n",
    "    }\n",
    "\n",
    "    // usePhone(int minutes) - decrease battery\n",
    "    public void usePhone(int minutes) {\n",
    "        batteryLevel -= minutes;\n",
    "        if (batteryLevel < 0) {\n",
    "            batteryLevel = 0; // prevent negative battery\n",
    "        }\n",
    "        System.out.println(\"Used phone for \" + minutes + \" minutes. Battery now: \" + batteryLevel + \"%\");\n",
    "    }\n",
    "}\n",
    "\n",
    "// Phone Test Class\n",
    "class PhoneTest {\n",
    "    public static void main(String[] args) {\n",
    "        // Create 2 Phone objects\n",
    "        Phone phone1 = new Phone(\"Apple\", \"iPhone 15\");\n",
    "        Phone phone2 = new Phone(\"Samsung\", \"Galaxy S24\");\n",
    "\n",
    "        // Add 3 contacts to each phone\n",
    "        phone1.addContact(\"Nolan\");\n",
    "        phone1.addContact(\"Yash\");\n",
    "        phone1.addContact(\"Yuva\");\n",
    "\n",
    "        phone2.addContact(\"Nora\");\n",
    "        phone2.addContact(\"Soni\");\n",
    "        phone2.addContact(\"Avika\");\n",
    "\n",
    "        System.out.println();\n",
    "\n",
    "        // Use phones for some minutes\n",
    "        phone1.usePhone(25);\n",
    "        phone2.usePhone(40);\n",
    "\n",
    "        System.out.println();\n",
    "\n",
    "        // Display all information\n",
    "        phone1.displayInfo();\n",
    "        phone1.showContacts();\n",
    "\n",
    "        System.out.println();\n",
    "\n",
    "        phone2.displayInfo();\n",
    "        phone2.showContacts();\n",
    "    }\n",
    "}\n",
    "\n",
    "PhoneTest.main(null);\n"
   ]
  }
 ],
 "metadata": {
  "kernelspec": {
   "display_name": "Java",
   "language": "java",
   "name": "java"
  },
  "language_info": {
   "codemirror_mode": "java",
   "file_extension": ".jshell",
   "mimetype": "text/x-java-source",
   "name": "Java",
   "pygments_lexer": "java",
   "version": "17.0.16+0"
  }
 },
 "nbformat": 4,
 "nbformat_minor": 5
}

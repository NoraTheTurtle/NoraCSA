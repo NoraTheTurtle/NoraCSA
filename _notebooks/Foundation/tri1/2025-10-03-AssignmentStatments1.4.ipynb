{
 "cells": [
  {
   "cell_type": "markdown",
   "id": "240a1b58",
   "metadata": {},
   "source": [
    "---\n",
    "title: Assignment Statments and Input\n",
    "description: Student Teaching Lesson\n",
    "layout: post\n",
    "type: hacks\n",
    "comments: true\n",
    "toc: false\n",
    "courses: { compsci: {week: 7} }\n",
    "Author: Nikhil, Xavier, Spencer\n",
    "---"
   ]
  },
  {
   "cell_type": "markdown",
   "id": "6ceb2dee",
   "metadata": {},
   "source": [
    "# POPCORN HACKS"
   ]
  },
  {
   "cell_type": "markdown",
   "id": "5862ec0b",
   "metadata": {},
   "source": [
    "## Popcorn Hack 1.1\n",
    "\n",
    "**y is 20** because in line 2 x is reassigned to 20 then in line 3 the  value of x is copied into y making y = 20"
   ]
  },
  {
   "cell_type": "markdown",
   "id": "5a03b591",
   "metadata": {},
   "source": [
    "## Popcorn Hack 1.2\n",
    "\n",
    "If you write `int count = \"hello\";` you get a compile-time error because in java the type of the value must match the variable's declared type.\n"
   ]
  },
  {
   "cell_type": "markdown",
   "id": "207bfc04",
   "metadata": {},
   "source": [
    "## Popcorn Hack 2.1\n",
    "\n",
    "If a user types \"twenty\" when `nextInt()` expects a number a java.util.InputMismatchException is thrown because nextInt() cannot parse non-numeric text"
   ]
  },
  {
   "cell_type": "markdown",
   "id": "8d908182",
   "metadata": {},
   "source": [
    "## Popcorn Hack 2.2\n",
    "\n",
    "If a user enters \"San Diego\" when `next()` is called next() stores only \"San\" because it reads until whitespace and \"Diego\" remains in the buffer."
   ]
  },
  {
   "cell_type": "markdown",
   "id": "cc3b2839",
   "metadata": {},
   "source": [
    "## Popcorn Hack 3\n",
    "OUTPUT AT THE BOTTOM OF CODE CELL "
   ]
  },
  {
   "cell_type": "code",
   "execution_count": 2,
   "id": "c9251153",
   "metadata": {
    "vscode": {
     "languageId": "java"
    }
   },
   "outputs": [
    {
     "name": "stdout",
     "output_type": "stream",
     "text": [
      "=== User Information Program ===\n",
      "\n",
      "Enter your full name: Enter your age: Enter your GPA: \n",
      "--- Summary ---\n",
      "Name: Alice Wonderland\n",
      "Age: 20 (next year: 21)\n",
      "GPA: 3.85\n"
     ]
    }
   ],
   "source": [
    "import java.util.Scanner;\n",
    "\n",
    "public class InputLesson {\n",
    "    public static void main(String[] args) {\n",
    "        System.out.println(\"=== User Information Program ===\\n\");\n",
    "        Scanner sc = new Scanner(System.in);\n",
    "\n",
    "        // String input\n",
    "        System.out.print(\"Enter your full name: \");\n",
    "        String name = sc.nextLine();\n",
    "        \n",
    "        // Integer input\n",
    "        System.out.print(\"Enter your age: \");\n",
    "        int age = sc.nextInt();\n",
    "        \n",
    "        // Double input\n",
    "        System.out.print(\"Enter your GPA: \");\n",
    "        double gpa = sc.nextDouble();\n",
    "        \n",
    "        // Display results\n",
    "        System.out.println(\"\\n--- Summary ---\");\n",
    "        System.out.println(\"Name: \" + name);\n",
    "        System.out.println(\"Age: \" + age + \" (next year: \" + (age + 1) + \")\");\n",
    "        System.out.println(\"GPA: \" + gpa);\n",
    "        \n",
    "        sc.close();\n",
    "    }\n",
    "}\n",
    "InputLesson.main(null);"
   ]
  },
  {
   "cell_type": "markdown",
   "id": "9fcd832e",
   "metadata": {},
   "source": [
    "---"
   ]
  },
  {
   "cell_type": "markdown",
   "id": "808ba76d",
   "metadata": {},
   "source": [
    "# HOMEWORK HACKS"
   ]
  },
  {
   "cell_type": "markdown",
   "id": "54ad317a",
   "metadata": {},
   "source": [
    "HACK 1"
   ]
  },
  {
   "cell_type": "code",
   "execution_count": 3,
   "id": "bf0357a8",
   "metadata": {
    "vscode": {
     "languageId": "java"
    }
   },
   "outputs": [
    {
     "name": "stdout",
     "output_type": "stream",
     "text": [
      "Enter first number: Enter second number: Enter third number: Average: 30.00\n"
     ]
    }
   ],
   "source": [
    "import java.util.Scanner;\n",
    "\n",
    "public class InputLesson {\n",
    "    public static void main(String[] args) {\n",
    "        Scanner sc = new Scanner(System.in);\n",
    "\n",
    "        // Prompt for three integers\n",
    "        System.out.print(\"Enter first number: \");\n",
    "        int num1 = sc.nextInt();\n",
    "\n",
    "        System.out.print(\"Enter second number: \");\n",
    "        int num2 = sc.nextInt();\n",
    "\n",
    "        System.out.print(\"Enter third number: \");\n",
    "        int num3 = sc.nextInt();\n",
    "\n",
    "        // Calculate average (use double to avoid integer division)\n",
    "        double average = (num1 + num2 + num3) / 3.0;\n",
    "\n",
    "        // Display result with two decimal places\n",
    "        System.out.printf(\"Average: %.2f%n\", average);\n",
    "\n",
    "        sc.close();\n",
    "    }\n",
    "}\n",
    "InputLesson.main(null);"
   ]
  }
 ],
 "metadata": {
  "kernelspec": {
   "display_name": "Java",
   "language": "java",
   "name": "java"
  },
  "language_info": {
   "codemirror_mode": "java",
   "file_extension": ".jshell",
   "mimetype": "text/x-java-source",
   "name": "Java",
   "pygments_lexer": "java",
   "version": "17.0.16+0"
  }
 },
 "nbformat": 4,
 "nbformat_minor": 5
}

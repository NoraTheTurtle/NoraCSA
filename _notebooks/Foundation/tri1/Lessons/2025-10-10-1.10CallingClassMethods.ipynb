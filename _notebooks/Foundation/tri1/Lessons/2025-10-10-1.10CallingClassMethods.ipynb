{
 "cells": [
  {
   "cell_type": "markdown",
   "id": "ab96e9bf",
   "metadata": {},
   "source": [
    "---\n",
    "title: Calling Class Methods\n",
    "description: Student Teaching Lesson\n",
    "layout: post\n",
    "type: hacks\n",
    "comments: true\n",
    "toc: false\n",
    "courses: { compsci: {week: 8} }\n",
    "Author: Trevor, Kush, Elliot, Aranya, Travis, Alex\n",
    "---"
   ]
  },
  {
   "cell_type": "markdown",
   "id": "8fdbba7b",
   "metadata": {},
   "source": [
    "# Popcorn Hack"
   ]
  },
  {
   "cell_type": "code",
   "execution_count": null,
   "id": "0cbec8f8",
   "metadata": {
    "vscode": {
     "languageId": "java"
    }
   },
   "outputs": [],
   "source": [
    "class Bro {\n",
    "    String name;\n",
    "    static String catchphrase = \"Sup bro?\";\n",
    "\n",
    "    public Bro(String name) {\n",
    "        this.name = name;\n",
    "    }\n",
    "\n",
    "    public void sayHi() {\n",
    "        System.out.println(\"Hey, I'm \" + name);\n",
    "    }\n",
    "\n",
    "    public static void sayCatchphrase() {\n",
    "        System.out.println(catchphrase);\n",
    "    }\n",
    "\n",
    "    public static void main(String[] args) {\n",
    "        // OK: static method called from static context (recommended style)\n",
    "        Bro.sayCatchphrase();\n",
    "\n",
    "        // ERROR originally: sayHi(); // <-- cannot call instance method from static context\n",
    "\n",
    "        // Create an instance and call the instance method\n",
    "        Bro alex = new Bro(\"Alex\");\n",
    "        alex.sayHi();\n",
    "\n",
    "        // OK but prefer class call for statics\n",
    "        Bro.sayCatchphrase();\n",
    "    }\n",
    "}\n"
   ]
  },
  {
   "cell_type": "markdown",
   "id": "9ce7735b",
   "metadata": {},
   "source": [
    "---"
   ]
  },
  {
   "cell_type": "markdown",
   "id": "828eba4e",
   "metadata": {},
   "source": [
    "## Homework Hack"
   ]
  },
  {
   "cell_type": "code",
   "execution_count": 1,
   "id": "77bc50a3",
   "metadata": {
    "vscode": {
     "languageId": "java"
    }
   },
   "outputs": [
    {
     "name": "stdout",
     "output_type": "stream",
     "text": [
      "\n",
      " Battle begins between Aiden and Rex!\n",
      "Estimated duration: 2.5 minutes\n",
      "\n",
      "Fun Fact: The average medieval duel lasted under 3 minutes!\n",
      "Aiden attacks Rex with Sword!\n",
      "Rex attacks Aiden with Axe!\n",
      "Aiden heals for 10 points. Total health: 85\n",
      "Aiden → Health: 85, Power: 30, Weapon: Sword\n",
      "Rex → Health: 90, Power: 25, Weapon: Axe\n",
      "Stronger fighter!: Aiden\n"
     ]
    }
   ],
   "source": [
    "class Fighter {\n",
    "    // Instance variables\n",
    "    String name;\n",
    "    int power;\n",
    "    int health;\n",
    "    String weapon; // your own variable!\n",
    "\n",
    "    // Static variable\n",
    "    static double fightDuration = 2.5; // in minutes\n",
    "\n",
    "    // Constructor\n",
    "    public Fighter(String name, int power, int health, String weapon) {\n",
    "        this.name = name;\n",
    "        this.power = power;\n",
    "        this.health = health;\n",
    "        this.weapon = weapon;\n",
    "    }\n",
    "\n",
    "    // Instance methods\n",
    "    void attack(Fighter opponent) {\n",
    "        System.out.println(name + \" attacks \" + opponent.name + \" with \" + weapon + \"!\");\n",
    "        opponent.health -= this.power;\n",
    "        if (opponent.health < 0) opponent.health = 0;\n",
    "    }\n",
    "\n",
    "    void printStatus() {\n",
    "        System.out.println(name + \" → Health: \" + health + \", Power: \" + power + \", Weapon: \" + weapon);\n",
    "    }\n",
    "\n",
    "    void heal(int amount) {\n",
    "        health += amount;\n",
    "        System.out.println(name + \" heals for \" + amount + \" points. Total health: \" + health);\n",
    "    }\n",
    "\n",
    "    // Class (static) methods\n",
    "    static Fighter strongerFighter(Fighter f1, Fighter f2) {\n",
    "        if (f1.power > f2.power) return f1;\n",
    "        else if (f2.power > f1.power) return f2;\n",
    "        else return null;\n",
    "    }\n",
    "\n",
    "    static void beginBattle(Fighter f1, Fighter f2) {\n",
    "        System.out.println(\"\\n Battle begins between \" + f1.name + \" and \" + f2.name + \"!\");\n",
    "        System.out.println(\"Estimated duration: \" + fightDuration + \" minutes\\n\");\n",
    "    }\n",
    "\n",
    "    static void battleFact() {\n",
    "        System.out.println(\"Fun Fact: The average medieval duel lasted under 3 minutes!\");\n",
    "    }\n",
    "\n",
    "    // Main method\n",
    "    public static void main(String[] args) {\n",
    "        Fighter hero = new Fighter(\"Aiden\", 30, 100, \"Sword\");\n",
    "        Fighter villain = new Fighter(\"Rex\", 25, 120, \"Axe\");\n",
    "\n",
    "        beginBattle(hero, villain);\n",
    "        battleFact();\n",
    "\n",
    "        hero.attack(villain);\n",
    "        villain.attack(hero);\n",
    "        hero.heal(10);\n",
    "\n",
    "        hero.printStatus();\n",
    "        villain.printStatus();\n",
    "\n",
    "        Fighter stronger = strongerFighter(hero, villain);\n",
    "        if (stronger != null)\n",
    "            System.out.println(\"Stronger fighter!: \" + stronger.name);\n",
    "        else\n",
    "            System.out.println(\"Both fighters have equal strength.\");\n",
    "    }\n",
    "}\n",
    "Fighter.main(null);\n"
   ]
  }
 ],
 "metadata": {
  "kernelspec": {
   "display_name": "Java",
   "language": "java",
   "name": "java"
  },
  "language_info": {
   "codemirror_mode": "java",
   "file_extension": ".jshell",
   "mimetype": "text/x-java-source",
   "name": "Java",
   "pygments_lexer": "java",
   "version": "17.0.16+0"
  }
 },
 "nbformat": 4,
 "nbformat_minor": 5
}

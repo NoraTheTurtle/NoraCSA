{
 "cells": [
  {
   "cell_type": "raw",
   "id": "462043ad",
   "metadata": {
    "vscode": {
     "languageId": "raw"
    }
   },
   "source": [
    "---\n",
    "title: variables\n",
    "description: Student Teaching Lesson\n",
    "layout: post\n",
    "type: hacks\n",
    "comments: true\n",
    "toc: false\n",
    "courses: { compsci: {week: 7} }\n",
    "author: Shriya, Nikhil, Adi\n",
    "---"
   ]
  },
  {
   "cell_type": "markdown",
   "id": "cc2b628e",
   "metadata": {},
   "source": [
    "# Popcorn Hack 1"
   ]
  },
  {
   "cell_type": "code",
   "execution_count": 7,
   "id": "cc9ff26e",
   "metadata": {},
   "outputs": [
    {
     "name": "stdout",
     "output_type": "stream",
     "text": [
      "Favorite food: Sushi\n",
      "Age: 16\n",
      "Height: 5.2 feet\n",
      "Likes pizza: true\n",
      "Favorite color starts with: R\n",
      "Born in: 2009\n"
     ]
    }
   ],
   "source": [
    "public class MyFavoriteThings {\n",
    "    public static void main(String[] args) {\n",
    "        // Try writing your own code here first!\n",
    "        \n",
    "        // Sample answer:\n",
    "        String favoriteFood = \"Sushi\";\n",
    "        int myAge = 16;\n",
    "        double heightInFeet = 5.2;\n",
    "        boolean likesPizza = true;\n",
    "        char colorFirstLetter = 'R';  \n",
    "        final int BIRTH_YEAR = 2009;\n",
    "        \n",
    "        System.out.println(\"Favorite food: \" + favoriteFood);\n",
    "        System.out.println(\"Age: \" + myAge);\n",
    "        System.out.println(\"Height: \" + heightInFeet + \" feet\");\n",
    "        System.out.println(\"Likes pizza: \" + likesPizza);\n",
    "        System.out.println(\"Favorite color starts with: \" + colorFirstLetter);\n",
    "        System.out.println(\"Born in: \" + BIRTH_YEAR);\n",
    "    }\n",
    "}\n",
    "//req to run main driver\n",
    "MyFavoriteThings.main(null);"
   ]
  },
  {
   "cell_type": "markdown",
   "id": "a0e21fad",
   "metadata": {},
   "source": [
    "# Popcorn Hack 2"
   ]
  },
  {
   "cell_type": "code",
   "execution_count": null,
   "id": "4e608306",
   "metadata": {},
   "outputs": [
    {
     "name": "stdout",
     "output_type": "stream",
     "text": [
      "Siblings: 2\n",
      "Name: Nora\n",
      "Hungry: true\n",
      "Favorite letter: N\n",
      "Height: 62.2 inches\n",
      "Days per year: 365\n"
     ]
    }
   ],
   "source": [
    "public class PickTheType {\n",
    "    public static void main(String[] args) {\n",
    "        // 1. Number of siblings → int (counting, whole number)\n",
    "        int siblings = 2;\n",
    "        \n",
    "        // 2. Your first name → String (text/words)\n",
    "        String firstName = \"Nora\";\n",
    "        \n",
    "        // 3. Are you hungry? → boolean (yes/no, true/false)\n",
    "        boolean isHungry = true;\n",
    "        \n",
    "        // 4. Your favorite letter → char (single letter)\n",
    "        char favoriteLetter = 'N';\n",
    "        \n",
    "        // 5. Your height in inches → double (might be decimal like 65.5)\n",
    "        // (Can also be int if your height is a whole number)\n",
    "        double heightInches = 62.2;\n",
    "        \n",
    "        // 6. Days in a year → final int (never changes, whole number)\n",
    "        final int DAYS_IN_YEAR = 365;\n",
    "        \n",
    "        System.out.println(\"Siblings: \" + siblings);\n",
    "        System.out.println(\"Name: \" + firstName);\n",
    "        System.out.println(\"Hungry: \" + isHungry);\n",
    "        System.out.println(\"Favorite letter: \" + favoriteLetter);\n",
    "        System.out.println(\"Height: \" + heightInches + \" inches\");\n",
    "        System.out.println(\"Days per year: \" + DAYS_IN_YEAR);\n",
    "    }\n",
    "}\n",
    "\n",
    "PickTheType.main(null);"
   ]
  },
  {
   "cell_type": "markdown",
   "id": "c9bf66cb",
   "metadata": {},
   "source": [
    "---"
   ]
  },
  {
   "cell_type": "markdown",
   "id": "d3f8abab",
   "metadata": {},
   "source": [
    "# Homework Hack"
   ]
  },
  {
   "cell_type": "code",
   "execution_count": 11,
   "id": "312ab1e2",
   "metadata": {},
   "outputs": [
    {
     "name": "stdout",
     "output_type": "stream",
     "text": [
      "Enter student's name: Enter class name: Enter score 1 (0-100): Enter score 2 (0-100): Enter score 3 (0-100): \n",
      "--- Grade Report ---\n",
      "Student: Nora\n",
      "Class: Compsci\n",
      "Average Score: 90.33333333333333\n",
      "Letter Grade: A\n"
     ]
    }
   ],
   "source": [
    "import java.util.Scanner;\n",
    "\n",
    "public class GradeCalculator {\n",
    "    public static void main(String[] args) {\n",
    "        Scanner input = new Scanner(System.in);\n",
    "\n",
    "        // Final variables (cannot be changed later)\n",
    "        final String studentName;\n",
    "        final String className;\n",
    "\n",
    "        // Get student info\n",
    "        System.out.print(\"Enter student's name: \");\n",
    "        studentName = input.nextLine();\n",
    "\n",
    "        System.out.print(\"Enter class name: \");\n",
    "        className = input.nextLine();\n",
    "\n",
    "        // Get test scores\n",
    "        System.out.print(\"Enter score 1 (0-100): \");\n",
    "        int score1 = input.nextInt();\n",
    "\n",
    "        System.out.print(\"Enter score 2 (0-100): \");\n",
    "        int score2 = input.nextInt();\n",
    "\n",
    "        System.out.print(\"Enter score 3 (0-100): \");\n",
    "        int score3 = input.nextInt();\n",
    "\n",
    "        // Calculate average\n",
    "        double average = (score1 + score2 + score3) / 3.0;\n",
    "\n",
    "        // Determine letter grade\n",
    "        char letterGrade;\n",
    "        if (average >= 90) {\n",
    "            letterGrade = 'A';\n",
    "        } else if (average >= 80) {\n",
    "            letterGrade = 'B';\n",
    "        } else if (average >= 70) {\n",
    "            letterGrade = 'C';\n",
    "        } else if (average >= 60) {\n",
    "            letterGrade = 'D';\n",
    "        } else {\n",
    "            letterGrade = 'F';\n",
    "        }\n",
    "\n",
    "        // Display results\n",
    "        System.out.println(\"\\n--- Grade Report ---\");\n",
    "        System.out.println(\"Student: \" + studentName);\n",
    "        System.out.println(\"Class: \" + className);\n",
    "        System.out.println(\"Average Score: \" + average);\n",
    "        System.out.println(\"Letter Grade: \" + letterGrade);\n",
    "\n",
    "        input.close();\n",
    "    }\n",
    "}\n",
    "\n",
    "GradeCalculator.main(null);"
   ]
  }
 ],
 "metadata": {
  "kernelspec": {
   "display_name": "Java",
   "language": "java",
   "name": "java"
  },
  "language_info": {
   "codemirror_mode": "java",
   "file_extension": ".jshell",
   "mimetype": "text/x-java-source",
   "name": "java",
   "pygments_lexer": "java",
   "version": "17.0.16+0"
  }
 },
 "nbformat": 4,
 "nbformat_minor": 5
}

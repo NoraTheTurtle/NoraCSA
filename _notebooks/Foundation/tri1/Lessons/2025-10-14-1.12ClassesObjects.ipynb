{
 "cells": [
  {
   "cell_type": "markdown",
   "id": "76f2bd2f",
   "metadata": {},
   "source": [
    "---\n",
    "title: Calling Instance Methods\n",
    "description: Student Teaching Lesson\n",
    "layout: post\n",
    "type: hacks\n",
    "comments: true\n",
    "toc: false\n",
    "courses: { compsci: {week: 9} }\n",
    "Author: Kush, Trevor, Elliot, Aranya, Travis, Alex\n",
    "---"
   ]
  },
  {
   "cell_type": "markdown",
   "id": "2d9e7e81",
   "metadata": {},
   "source": [
    "# Popcorn Hack"
   ]
  },
  {
   "cell_type": "code",
   "execution_count": 5,
   "id": "967db369",
   "metadata": {
    "vscode": {
     "languageId": "java"
    }
   },
   "outputs": [
    {
     "name": "stdout",
     "output_type": "stream",
     "text": [
      "Title: The Great Gatsby, Pages: 180\n"
     ]
    }
   ],
   "source": [
    "class Book {\n",
    "    String title;\n",
    "    int pages;\n",
    "\n",
    "    void printInfo() {\n",
    "        System.out.println(\"Title: \" + title + \", Pages: \" + pages);\n",
    "    }\n",
    "}\n",
    "\n",
    "class MainPopcorn {\n",
    "    public static void main(String[] args) {\n",
    "        Book myBook = new Book();\n",
    "        myBook.title = \"The Great Gatsby\";\n",
    "        myBook.pages = 180;\n",
    "        myBook.printInfo();\n",
    "    }\n",
    "}\n",
    "\n",
    "MainPopcorn.main(null);\n"
   ]
  },
  {
   "cell_type": "markdown",
   "id": "42e88b25",
   "metadata": {},
   "source": [
    "# Homework Hack 1"
   ]
  },
  {
   "cell_type": "code",
   "execution_count": 11,
   "id": "7562e186",
   "metadata": {
    "vscode": {
     "languageId": "java"
    }
   },
   "outputs": [
    {
     "name": "stdout",
     "output_type": "stream",
     "text": [
      "Nora is in grade 11, has 0 pet(s), 2 sibling(s), and enjoys painting.\n",
      "Avika is in grade 9, has 1 pet(s), 1 sibling(s), and enjoys soccer.\n",
      "Soni is in grade 10, has 3 pet(s), 0 sibling(s), and enjoys playing guitar.\n"
     ]
    }
   ],
   "source": [
    "class Student {\n",
    "    String name;\n",
    "    int grade;\n",
    "    int pets;\n",
    "    int siblings;\n",
    "    String hobby; // your own instance variable\n",
    "\n",
    "    void printInfo() {\n",
    "        System.out.println(name + \" is in grade \" + grade + \", has \" + pets + \" pet(s), \" \n",
    "                           + siblings + \" sibling(s), and enjoys \" + hobby + \".\");\n",
    "    }\n",
    "}\n",
    "\n",
    "class Main {\n",
    "    public static void main(String[] args) {\n",
    "        Student s1 = new Student();\n",
    "        s1.name = \"Nora\";\n",
    "        s1.grade = 11;\n",
    "        s1.pets = 0;\n",
    "        s1.siblings = 2;\n",
    "        s1.hobby = \"painting\";\n",
    "\n",
    "        Student s2 = new Student();\n",
    "        s2.name = \"Avika\";\n",
    "        s2.grade = 9;\n",
    "        s2.pets = 1;\n",
    "        s2.siblings = 1;\n",
    "        s2.hobby = \"soccer\";\n",
    "\n",
    "        Student s3 = new Student();\n",
    "        s3.name = \"Soni\";\n",
    "        s3.grade = 10;\n",
    "        s3.pets = 3;\n",
    "        s3.siblings = 0;\n",
    "        s3.hobby = \"playing guitar\";\n",
    "\n",
    "        s1.printInfo();\n",
    "        s2.printInfo();\n",
    "        s3.printInfo();\n",
    "    }\n",
    "}\n",
    "\n",
    "Main.main(null);\n"
   ]
  },
  {
   "cell_type": "markdown",
   "id": "655471d1",
   "metadata": {},
   "source": [
    "# Popcorn Hack 2"
   ]
  },
  {
   "cell_type": "code",
   "execution_count": 10,
   "id": "b7315919",
   "metadata": {
    "vscode": {
     "languageId": "java"
    }
   },
   "outputs": [
    {
     "name": "stdout",
     "output_type": "stream",
     "text": [
      "Original reference:\n",
      "Leo 'Lightning' is in grade 11, has 0 pet(s), 1 sibling(s), and enjoys soccer.\n",
      "Nickname reference:\n",
      "Leo 'Lightning' is in grade 11, has 0 pet(s), 1 sibling(s), and enjoys soccer.\n"
     ]
    }
   ],
   "source": [
    "class Student {\n",
    "    String name;\n",
    "    int grade;\n",
    "    int pets;\n",
    "    int siblings;\n",
    "    String hobby;\n",
    "\n",
    "    void printInfo() {\n",
    "        System.out.println(name + \" is in grade \" + grade + \", has \" + pets + \" pet(s), \" \n",
    "                           + siblings + \" sibling(s), and enjoys \" + hobby + \".\");\n",
    "    }\n",
    "}\n",
    "\n",
    "class Main {\n",
    "    public static void main(String[] args) {\n",
    "        Student s1 = new Student();\n",
    "        s1.name = \"Ava\";\n",
    "        s1.grade = 10;\n",
    "        s1.pets = 1;\n",
    "        s1.siblings = 2;\n",
    "        s1.hobby = \"painting\";\n",
    "\n",
    "        Student s2 = new Student();\n",
    "        s2.name = \"Leo\";\n",
    "        s2.grade = 11;\n",
    "        s2.pets = 0;\n",
    "        s2.siblings = 1;\n",
    "        s2.hobby = \"soccer\";\n",
    "\n",
    "        Student s3 = new Student();\n",
    "        s3.name = \"Mia\";\n",
    "        s3.grade = 9;\n",
    "        s3.pets = 3;\n",
    "        s3.siblings = 0;\n",
    "        s3.hobby = \"playing guitar\";\n",
    "\n",
    "        // New reference variable (nickname) pointing to the same student\n",
    "        Student nickname = s2;\n",
    "        nickname.name = \"Leo 'Lightning'\";  // update name through the new reference\n",
    "\n",
    "        // Output attributes using both references\n",
    "        System.out.println(\"Original reference:\");\n",
    "        s2.printInfo();\n",
    "        System.out.println(\"Nickname reference:\");\n",
    "        nickname.printInfo();\n",
    "    }\n",
    "}\n",
    "\n",
    "Main.main(null);\n"
   ]
  }
 ],
 "metadata": {
  "kernelspec": {
   "display_name": "Java",
   "language": "java",
   "name": "java"
  },
  "language_info": {
   "codemirror_mode": "java",
   "file_extension": ".jshell",
   "mimetype": "text/x-java-source",
   "name": "Java",
   "pygments_lexer": "java",
   "version": "17.0.16+0"
  }
 },
 "nbformat": 4,
 "nbformat_minor": 5
}

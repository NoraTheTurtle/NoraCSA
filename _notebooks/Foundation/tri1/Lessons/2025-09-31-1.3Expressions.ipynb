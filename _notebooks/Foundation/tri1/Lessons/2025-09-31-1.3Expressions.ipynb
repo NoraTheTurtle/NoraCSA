{
 "cells": [
  {
   "cell_type": "markdown",
   "id": "9d42e77e",
   "metadata": {},
   "source": [
    "---\n",
    "title: Expressions and Outputs\n",
    "description: Student Teaching Lesson\n",
    "layout: post\n",
    "type: hacks\n",
    "comments: true\n",
    "toc: false\n",
    "courses: { compsci: {week: 7} }\n",
    "author: Ahaan, Arnav, Shaurya\n",
    "---"
   ]
  },
  {
   "cell_type": "markdown",
   "id": "c9a93818",
   "metadata": {},
   "source": [
    "# Popcorn Hacks 1"
   ]
  },
  {
   "cell_type": "markdown",
   "id": "dbc487a4",
   "metadata": {},
   "source": [
    "(+) adds two values.\n",
    "\n",
    "(-) subtracts one value from another or makes a value negative.\n",
    "\n",
    "(*) multiplies two values.\n",
    "\n",
    "(/) divides one value by another to get the quotient.\n",
    "\n",
    "(%) gives the remainder after integer division (great for even/odd checks or wrapping)."
   ]
  },
  {
   "cell_type": "code",
   "execution_count": 2,
   "id": "c4446446",
   "metadata": {
    "vscode": {
     "languageId": "java"
    }
   },
   "outputs": [
    {
     "name": "stdout",
     "output_type": "stream",
     "text": [
      "Result: 2\n"
     ]
    }
   ],
   "source": [
    "int result = (((12 + 8) * 3 - 10) / 5) % 4; \n",
    "\n",
    "System.out.println(\"Result: \" + result);"
   ]
  },
  {
   "cell_type": "markdown",
   "id": "9e1d5283",
   "metadata": {},
   "source": [
    "# Popcorn Hack 2"
   ]
  },
  {
   "cell_type": "markdown",
   "id": "4cd19940",
   "metadata": {},
   "source": [
    "It prints lines with **println** and keeps the prompt on the same line with **print**. It adds values into messages using **+**, and uses **\\n (new line) or \\t (tab)** for spacing. Making the menu neat, easy to read, and easy to use."
   ]
  },
  {
   "cell_type": "markdown",
   "id": "25173b37",
   "metadata": {},
   "source": [
    "---"
   ]
  },
  {
   "cell_type": "markdown",
   "id": "81cff28d",
   "metadata": {},
   "source": [
    "# Homework Hack 1"
   ]
  },
  {
   "cell_type": "markdown",
   "id": "1135b45d",
   "metadata": {},
   "source": [
    "### 1) Predicted Output\n",
    "\n",
    "AP CSA\n",
    "<br>\n",
    "Rocks!"
   ]
  },
  {
   "cell_type": "markdown",
   "id": "0ed10377",
   "metadata": {},
   "source": [
    "### 2) Fix The Bug"
   ]
  },
  {
   "cell_type": "code",
   "execution_count": 3,
   "id": "df522f54",
   "metadata": {
    "vscode": {
     "languageId": "java"
    }
   },
   "outputs": [
    {
     "name": "stdout",
     "output_type": "stream",
     "text": [
      "C:\\Users\\Student\n"
     ]
    }
   ],
   "source": [
    "System.out.println(\"C:\\\\Users\\\\Student\"); //needed to add double slashes"
   ]
  },
  {
   "cell_type": "markdown",
   "id": "b5df4727",
   "metadata": {},
   "source": [
    "### 3) Menu Hack"
   ]
  },
  {
   "cell_type": "code",
   "execution_count": 4,
   "id": "4cd0b593",
   "metadata": {
    "vscode": {
     "languageId": "java"
    }
   },
   "outputs": [
    {
     "name": "stdout",
     "output_type": "stream",
     "text": [
      "==== Main Menu ====\n",
      "1. Start Game\n",
      "2. Instructions\n",
      "3. Exit\n",
      "4. Settings\n",
      "Choose an option: You selected option: 3\n",
      "There are 4 total options.\n"
     ]
    }
   ],
   "source": [
    "import java.util.Scanner;\n",
    "\n",
    "public class Menu {\n",
    "    public static void main(String[] args) {\n",
    "        Scanner sc = new Scanner(System.in);\n",
    "\n",
    "        System.out.println(\"==== Main Menu ====\");\n",
    "        System.out.println(\"1. Start Game\");\n",
    "        System.out.println(\"2. Instructions\");\n",
    "        System.out.println(\"3. Exit\");\n",
    "        System.out.println(\"4. Settings\");   // new option\n",
    "\n",
    "        System.out.print(\"Choose an option: \");\n",
    "        int choice = sc.nextInt();\n",
    "\n",
    "        System.out.println(\"You selected option: \" + choice);\n",
    "\n",
    "        int optionCount = 4;                \n",
    "        System.out.println(\"There are \" + optionCount + \" total options.\"); //updated count\n",
    "    }\n",
    "}\n",
    "\n",
    "Menu.main(null);"
   ]
  },
  {
   "cell_type": "markdown",
   "id": "dd3f0ef7",
   "metadata": {},
   "source": [
    "### 4) Challenge"
   ]
  },
  {
   "cell_type": "code",
   "execution_count": 5,
   "id": "7cc41822",
   "metadata": {
    "vscode": {
     "languageId": "java"
    }
   },
   "outputs": [
    {
     "name": "stdout",
     "output_type": "stream",
     "text": [
      "Pi = 3.14\n"
     ]
    },
    {
     "data": {
      "text/plain": [
       "java.io.PrintStream@3db818e7"
      ]
     },
     "execution_count": 5,
     "metadata": {},
     "output_type": "execute_result"
    }
   ],
   "source": [
    "System.out.printf(\"Pi = %.2f%n\", Math.PI);  // prints: Pi = 3.14"
   ]
  },
  {
   "cell_type": "markdown",
   "id": "29b4b73b",
   "metadata": {},
   "source": [
    "# Homework Hack 2"
   ]
  },
  {
   "cell_type": "code",
   "execution_count": 7,
   "id": "9654a948",
   "metadata": {
    "vscode": {
     "languageId": "java"
    }
   },
   "outputs": [
    {
     "name": "stdout",
     "output_type": "stream",
     "text": [
      "==== Calculator Menu ====\n",
      "1. Add\n",
      "2. Subtract\n",
      "3. Multiply\n",
      "4. Divide\n",
      "Choose an option: Enter first number: Enter second number: Result: 4.0\n"
     ]
    }
   ],
   "source": [
    "import java.util.Scanner;\n",
    "\n",
    "public class Menu {\n",
    "    public static void main(String[] args) {\n",
    "        Scanner sc = new Scanner(System.in);\n",
    "\n",
    "        System.out.println(\"==== Calculator Menu ====\");\n",
    "        System.out.println(\"1. Add\");\n",
    "        System.out.println(\"2. Subtract\");\n",
    "        System.out.println(\"3. Multiply\");\n",
    "        System.out.println(\"4. Divide\");\n",
    "        System.out.print(\"Choose an option: \");\n",
    "        int option = sc.nextInt();\n",
    "\n",
    "        System.out.print(\"Enter first number: \");\n",
    "        double a = sc.nextDouble();\n",
    "        System.out.print(\"Enter second number: \");\n",
    "        double b = sc.nextDouble();\n",
    "\n",
    "        double result;\n",
    "        switch (option) {\n",
    "            case 1: result = a + b; break;\n",
    "            case 2: result = a - b; break;\n",
    "            case 3: result = a * b; break;\n",
    "            case 4:\n",
    "                if (b == 0) {\n",
    "                    System.out.println(\"Error: cannot divide by zero.\");\n",
    "                    sc.close();\n",
    "                    return;\n",
    "                }\n",
    "                result = a / b; \n",
    "                break;\n",
    "            default:\n",
    "                System.out.println(\"Invalid option.\");\n",
    "                sc.close();\n",
    "                return;\n",
    "        }\n",
    "\n",
    "        System.out.println(\"Result: \" + result);\n",
    "        sc.close();\n",
    "    }\n",
    "}\n",
    "\n",
    "Menu.main(null);"
   ]
  }
 ],
 "metadata": {
  "kernelspec": {
   "display_name": "Java",
   "language": "java",
   "name": "java"
  },
  "language_info": {
   "codemirror_mode": "java",
   "file_extension": ".jshell",
   "mimetype": "text/x-java-source",
   "name": "Java",
   "pygments_lexer": "java",
   "version": "17.0.16+0"
  }
 },
 "nbformat": 4,
 "nbformat_minor": 5
}

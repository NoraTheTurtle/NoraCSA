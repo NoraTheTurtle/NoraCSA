{
 "cells": [
  {
   "cell_type": "markdown",
   "id": "b87619c2",
   "metadata": {},
   "source": [
    "---\n",
    "title: Casting and Range of Variables\n",
    "description: Student Teaching Lesson\n",
    "layout: post\n",
    "type: hacks\n",
    "comments: true\n",
    "toc: false\n",
    "courses: { compsci: {week: 8} }\n",
    "Author: Ansh, Mihir, Yash\n",
    "---"
   ]
  },
  {
   "cell_type": "markdown",
   "id": "6d57114d",
   "metadata": {},
   "source": [
    "# Practice Quiz"
   ]
  },
  {
   "cell_type": "markdown",
   "id": "6ae4dd8e",
   "metadata": {},
   "source": [
    "### Q1"
   ]
  },
  {
   "cell_type": "code",
   "execution_count": 1,
   "id": "dc2d1604",
   "metadata": {
    "vscode": {
     "languageId": "java"
    }
   },
   "outputs": [
    {
     "name": "stdout",
     "output_type": "stream",
     "text": [
      "2\n",
      "2\n",
      "2.0\n",
      "2.5\n"
     ]
    }
   ],
   "source": [
    "int a = 10, b = 4;\n",
    "System.out.println(a / b);\n",
    "System.out.println(a % b);\n",
    "System.out.println((double)(a / b));\n",
    "System.out.println((double)a / b);"
   ]
  },
  {
   "cell_type": "markdown",
   "id": "d0df8b90",
   "metadata": {},
   "source": [
    "### Q2"
   ]
  },
  {
   "cell_type": "code",
   "execution_count": 2,
   "id": "4e185140",
   "metadata": {
    "vscode": {
     "languageId": "java"
    }
   },
   "outputs": [
    {
     "name": "stdout",
     "output_type": "stream",
     "text": [
      "-2\n",
      "-3\n",
      "3\n"
     ]
    }
   ],
   "source": [
    "double d = -2.6;\n",
    "System.out.println((int)d);\n",
    "System.out.println((int)(d - 0.5));\n",
    "System.out.println((int)(-d + 0.5));"
   ]
  },
  {
   "cell_type": "markdown",
   "id": "184607f7",
   "metadata": {},
   "source": [
    "### Q3"
   ]
  },
  {
   "cell_type": "code",
   "execution_count": 3,
   "id": "e03f0510",
   "metadata": {
    "vscode": {
     "languageId": "java"
    }
   },
   "outputs": [
    {
     "name": "stdout",
     "output_type": "stream",
     "text": [
      "2147483647\n",
      "-2147483647\n"
     ]
    }
   ],
   "source": [
    "int x = Integer.MAX_VALUE;\n",
    "int y = x + 2;\n",
    "System.out.println(x);\n",
    "System.out.println(y);"
   ]
  },
  {
   "cell_type": "markdown",
   "id": "e04523f0",
   "metadata": {},
   "source": [
    "---"
   ]
  },
  {
   "cell_type": "markdown",
   "id": "5f305405",
   "metadata": {
    "vscode": {
     "languageId": "java"
    }
   },
   "source": [
    "# FRQ"
   ]
  },
  {
   "cell_type": "markdown",
   "id": "1485cfec",
   "metadata": {},
   "source": [
    "## Q1"
   ]
  },
  {
   "cell_type": "code",
   "execution_count": 5,
   "id": "e507d76a",
   "metadata": {
    "vscode": {
     "languageId": "java"
    }
   },
   "outputs": [
    {
     "name": "stdout",
     "output_type": "stream",
     "text": [
      "7\n"
     ]
    }
   ],
   "source": [
    "double x = 7.9;\n",
    "int y = (int) x;\n",
    "System.out.println(y);"
   ]
  },
  {
   "cell_type": "markdown",
   "id": "9aac8ef9",
   "metadata": {},
   "source": [
    "### Answer: C (7)"
   ]
  },
  {
   "cell_type": "markdown",
   "id": "ca608717",
   "metadata": {},
   "source": [
    "## Q2"
   ]
  },
  {
   "cell_type": "code",
   "execution_count": 19,
   "id": "6e77c680",
   "metadata": {
    "vscode": {
     "languageId": "java"
    }
   },
   "outputs": [
    {
     "ename": "CompilationException",
     "evalue": "",
     "output_type": "error",
     "traceback": [
      "\u001b[1m\u001b[30m|   \u001b[1m\u001b[30mint c = \u001b[0m\u001b[1m\u001b[30m\u001b[41ma + b\u001b[0m\u001b[1m\u001b[30m;\u001b[0m",
      "\u001b[1m\u001b[31mincompatible types: possible lossy conversion from double to int\u001b[0m",
      ""
     ]
    }
   ],
   "source": [
    "int a = 10;\n",
    "double b = 5.5;\n",
    "\n",
    "int c = a + b;\n",
    "int c = (int)(a + b);\n",
    "int c = a + (int)b;"
   ]
  },
  {
   "cell_type": "markdown",
   "id": "c3842aac",
   "metadata": {},
   "source": [
    "### Answer: A (int c = a + b); \n",
    "because b is a double and you can't asign a double to init without an error so its the only one that will compile with an error"
   ]
  },
  {
   "cell_type": "markdown",
   "id": "973cb3ef",
   "metadata": {},
   "source": [
    "## Q3"
   ]
  },
  {
   "cell_type": "code",
   "execution_count": 16,
   "id": "eb615269",
   "metadata": {
    "vscode": {
     "languageId": "java"
    }
   },
   "outputs": [
    {
     "name": "stdout",
     "output_type": "stream",
     "text": [
      "4\n"
     ]
    }
   ],
   "source": [
    "int num = 9 / 2;\n",
    "System.out.println(num);"
   ]
  },
  {
   "cell_type": "markdown",
   "id": "c1299e08",
   "metadata": {},
   "source": [
    "Answer: B (4)"
   ]
  },
  {
   "cell_type": "markdown",
   "id": "17bed5a4",
   "metadata": {},
   "source": [
    "## Q4"
   ]
  },
  {
   "cell_type": "code",
   "execution_count": 17,
   "id": "be19f3d5",
   "metadata": {
    "vscode": {
     "languageId": "java"
    }
   },
   "outputs": [
    {
     "name": "stdout",
     "output_type": "stream",
     "text": [
      "16\n"
     ]
    }
   ],
   "source": [
    "double d = 15.7;\n",
    "int i = (int)(d + 0.5);\n",
    "System.out.println(i)"
   ]
  },
  {
   "cell_type": "markdown",
   "id": "488fe082",
   "metadata": {},
   "source": [
    "### Answer: B (16)"
   ]
  },
  {
   "cell_type": "markdown",
   "id": "053f9079",
   "metadata": {},
   "source": [
    "## Q5"
   ]
  },
  {
   "cell_type": "markdown",
   "id": "dcf8b217",
   "metadata": {
    "vscode": {
     "languageId": "java"
    }
   },
   "source": [
    "### Answer: B (Casting from double to int requires explicit casting)\n",
    "\n",
    "Because in java casting from double to int is a shrinking conversion because you're going from a larger more precise number (doubles have variables) to a smaller, less precise type (Int has whole numbers)"
   ]
  }
 ],
 "metadata": {
  "kernelspec": {
   "display_name": "Java",
   "language": "java",
   "name": "java"
  },
  "language_info": {
   "codemirror_mode": "java",
   "file_extension": ".jshell",
   "mimetype": "text/x-java-source",
   "name": "Java",
   "pygments_lexer": "java",
   "version": "17.0.16+0"
  }
 },
 "nbformat": 4,
 "nbformat_minor": 5
}

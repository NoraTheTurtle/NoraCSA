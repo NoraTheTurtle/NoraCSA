{
 "cells": [
  {
   "cell_type": "markdown",
   "id": "2f133dde",
   "metadata": {},
   "source": [
    "---\n",
    "title: Compound Assignment Operators\n",
    "description: Student Teaching Lesson\n",
    "layout: post\n",
    "type: hacks\n",
    "comments: true\n",
    "toc: false\n",
    "courses: { compsci: {week: 8} }\n",
    "Author: Ruta, Vibha, Anvay\n",
    "---"
   ]
  },
  {
   "cell_type": "markdown",
   "id": "eb73b5d9",
   "metadata": {},
   "source": [
    "# Popcorn Hack 1\n",
    "\n",
    "add compound assignment operators (+=, -=, *=, /=)"
   ]
  },
  {
   "cell_type": "code",
   "execution_count": null,
   "id": "3b35a322",
   "metadata": {
    "vscode": {
     "languageId": "java"
    }
   },
   "outputs": [
    {
     "data": {
      "text/plain": [
       "68"
      ]
     },
     "execution_count": 1,
     "metadata": {},
     "output_type": "execute_result"
    }
   ],
   "source": [
    "int playerScore = 1000;\n",
    "int playerHealth = 100;\n",
    "int enemiesDefeated = 0;\n",
    "\n",
    "// Player defeats an enemy worth 250 points\n",
    "playerScore += 250; \n",
    "\n",
    "// Player takes 15 damage\n",
    "playerHealth -= 15;\n",
    "\n",
    "// Enemy count goes up\n",
    "enemiesDefeated += 1;\n",
    "\n",
    "// Boss battle: double the current score!\n",
    "playerScore *= 2;\n",
    "\n",
    "// Healing potion restores health to 80% of current\n",
    "playerHealth *= 4;\n",
    "playerHealth /= 5;  // 4/5 = 0.8, but we keep integer math"
   ]
  },
  {
   "cell_type": "markdown",
   "id": "47eee4c4",
   "metadata": {},
   "source": [
    "# Popcorn Hack 2"
   ]
  },
  {
   "cell_type": "code",
   "execution_count": 2,
   "id": "86b2f22d",
   "metadata": {
    "vscode": {
     "languageId": "java"
    }
   },
   "outputs": [
    {
     "name": "stdout",
     "output_type": "stream",
     "text": [
      "Starting score: 100\n",
      "After wrong answer (-=): 70\n",
      "After power-up (*=): 140\n",
      "After remainder (%=): 0\n"
     ]
    }
   ],
   "source": [
    "public class ScoreUpdater {\n",
    "    public static void main(String[] args) {\n",
    "        int score = 100;\n",
    "        System.out.println(\"Starting score: \" + score);\n",
    "\n",
    "        // Deduct points for a wrong answer\n",
    "        score -= 30;\n",
    "        System.out.println(\"After wrong answer (-=): \" + score);\n",
    "\n",
    "        // Double the score with a power-up\n",
    "        score *= 2;\n",
    "        System.out.println(\"After power-up (*=): \" + score);\n",
    "\n",
    "        // Find remainder after dividing by 7\n",
    "        score %= 7;\n",
    "        System.out.println(\"After remainder (%=): \" + score);\n",
    "    }\n",
    "}\n",
    "ScoreUpdater.main(null);"
   ]
  },
  {
   "cell_type": "markdown",
   "id": "70178f8a",
   "metadata": {},
   "source": [
    "---"
   ]
  },
  {
   "cell_type": "markdown",
   "id": "5776829c",
   "metadata": {},
   "source": [
    "# Assignment"
   ]
  },
  {
   "cell_type": "code",
   "execution_count": 4,
   "id": "93ea1ea8",
   "metadata": {
    "vscode": {
     "languageId": "java"
    }
   },
   "outputs": [
    {
     "name": "stdout",
     "output_type": "stream",
     "text": [
      "Stats\n",
      "Followers: 500\n",
      "Posts: 10\n",
      "Engagement: 250\n",
      "Sponsorship Earnings: $0\n",
      "\n",
      "Viral post! Followers increased to: 1500\n",
      "Controversy! Followers dropped to: 1425\n",
      "Trending hashtag! Engagement doubled to: 500\n",
      "Average engagement per post: 50\n",
      "Sponsorship deal secured! Total earnings: $500\n",
      "Posted a new video! Total posts: 11\n",
      "Your current top 100 ranking: 42\n"
     ]
    }
   ],
   "source": [
    "public class InfluencerSim {\n",
    "    public static void main(String[] args) {\n",
    "        // Starting statistics for the influencer\n",
    "        int followers = 500;           // Number of followers\n",
    "        int posts = 10;                // Total posts made\n",
    "        int engagement = 250;          // Total likes and comments\n",
    "        int sponsorshipEarnings = 0;   // Total money earned from sponsors in dollars\n",
    "\n",
    "        System.out.println(\"Stats\");\n",
    "        System.out.println(\"Followers: \" + followers);\n",
    "        System.out.println(\"Posts: \" + posts);\n",
    "        System.out.println(\"Engagement: \" + engagement);\n",
    "        System.out.println(\"Sponsorship Earnings: $\" + sponsorshipEarnings);\n",
    "        System.out.println();\n",
    "\n",
    "        // Viral post → gain followers\n",
    "        followers += 1000;  // += adds 1000 followers\n",
    "        System.out.println(\"Viral post! Followers increased to: \" + followers);\n",
    "\n",
    "        // Controversial post → lose some followers\n",
    "        followers -= 75;   // -= subtracts 75 followers\n",
    "        System.out.println(\"Controversy! Followers dropped to: \" + followers);\n",
    "\n",
    "        // Trending hashtag → double engagement\n",
    "        engagement *= 2;   // *= multiplies engagement by 2\n",
    "        System.out.println(\"Trending hashtag! Engagement doubled to: \" + engagement);\n",
    "\n",
    "        // Calculate average engagement per post\n",
    "        engagement /= posts;  // /= divides total engagement by number of posts\n",
    "        System.out.println(\"Average engagement per post: \" + engagement);\n",
    "\n",
    "        // Secure a sponsorship deal → increase earnings\n",
    "        sponsorshipEarnings += 500;  // += adds $500 sponsorship money\n",
    "        System.out.println(\"Sponsorship deal secured! Total earnings: $\" + sponsorshipEarnings);\n",
    "\n",
    "        // Daily upload streak → increase post count\n",
    "        posts++;  // ++ increments posts by 1\n",
    "        System.out.println(\"Posted a new video! Total posts: \" + posts);\n",
    "\n",
    "        // Ranking among top 100 creators\n",
    "        int rankingPosition = 342;\n",
    "        rankingPosition %= 100;  // %= gets remainder to find position in top 100\n",
    "        System.out.println(\"Your current top 100 ranking: \" + rankingPosition);\n",
    "    }\n",
    "}\n",
    "InfluencerSim.main(null);"
   ]
  }
 ],
 "metadata": {
  "kernelspec": {
   "display_name": "Java",
   "language": "java",
   "name": "java"
  },
  "language_info": {
   "codemirror_mode": "java",
   "file_extension": ".jshell",
   "mimetype": "text/x-java-source",
   "name": "Java",
   "pygments_lexer": "java",
   "version": "17.0.16+0"
  }
 },
 "nbformat": 4,
 "nbformat_minor": 5
}

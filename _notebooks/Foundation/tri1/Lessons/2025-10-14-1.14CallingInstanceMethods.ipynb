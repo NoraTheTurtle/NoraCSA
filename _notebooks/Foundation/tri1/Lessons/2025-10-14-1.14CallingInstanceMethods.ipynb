{
 "cells": [
  {
   "cell_type": "markdown",
   "id": "3539ba3a",
   "metadata": {},
   "source": [
    "---\n",
    "title: Calling Instance Methods\n",
    "description: Student Teaching Lesson\n",
    "layout: post\n",
    "type: hacks\n",
    "comments: true\n",
    "toc: false\n",
    "courses: { compsci: {week: 9} }\n",
    "Author: Risha, Aadi, Neil\n",
    "---"
   ]
  },
  {
   "cell_type": "markdown",
   "id": "d379f9aa",
   "metadata": {},
   "source": [
    "# Popcorn Hack 1"
   ]
  },
  {
   "cell_type": "code",
   "execution_count": 4,
   "id": "2616c779",
   "metadata": {
    "vscode": {
     "languageId": "java"
    }
   },
   "outputs": [
    {
     "name": "stdout",
     "output_type": "stream",
     "text": [
      "My dog spot is a Golden Retriever!\n"
     ]
    }
   ],
   "source": [
    "public class Dog {\n",
    "    private String name;\n",
    "    private String breed;\n",
    "\n",
    "    // Constructor\n",
    "    public Dog(String name, String breed) {\n",
    "        this.name = name;\n",
    "        this.breed = breed;\n",
    "    }\n",
    "\n",
    "    // Method that prints the dog's info\n",
    "    public void printInfo() {\n",
    "        System.out.println(\"My dog \" + name + \" is a \" + breed + \"!\");\n",
    "    }\n",
    "\n",
    "    // Main method to test it\n",
    "    public static void main(String[] args) {\n",
    "        Dog myDog = new Dog(\"spot\", \"Golden Retriever\");\n",
    "        myDog.printInfo();\n",
    "    }\n",
    "}\n",
    "Dog.main(null);"
   ]
  },
  {
   "cell_type": "markdown",
   "id": "08e6c576",
   "metadata": {},
   "source": [
    "# Popcorn Hack 2"
   ]
  },
  {
   "cell_type": "code",
   "execution_count": 5,
   "id": "515300e3",
   "metadata": {
    "vscode": {
     "languageId": "java"
    }
   },
   "outputs": [
    {
     "name": "stdout",
     "output_type": "stream",
     "text": [
      "Final count: 6\n"
     ]
    }
   ],
   "source": [
    "public class Counter {\n",
    "    private int count;\n",
    "\n",
    "    // Add method\n",
    "    public void add(int x) {\n",
    "        count += x;\n",
    "    }\n",
    "\n",
    "    // Subtract method\n",
    "    public void subtract(int x) {\n",
    "        count -= x;\n",
    "    }\n",
    "\n",
    "    // Multiply method\n",
    "    public void multiply(int x) {\n",
    "        count *= x;\n",
    "    }\n",
    "\n",
    "    // Divide method\n",
    "    public void divide(int x) {\n",
    "        if (x != 0) {\n",
    "            count /= x;\n",
    "        } else {\n",
    "            System.out.println(\"Cannot divide by zero!\");\n",
    "        }\n",
    "    }\n",
    "\n",
    "    // Getter method\n",
    "    public int getCount() {\n",
    "        return count;\n",
    "    }\n",
    "\n",
    "    // Main method to test everything\n",
    "    public static void main(String[] args) {\n",
    "        Counter c = new Counter();\n",
    "        c.add(10);\n",
    "        c.subtract(2);\n",
    "        c.multiply(3);\n",
    "        c.divide(4);\n",
    "        System.out.println(\"Final count: \" + c.getCount());\n",
    "    }\n",
    "}\n",
    "Counter.main(null);"
   ]
  },
  {
   "cell_type": "markdown",
   "id": "89b6ed1f",
   "metadata": {},
   "source": [
    "---"
   ]
  },
  {
   "cell_type": "markdown",
   "id": "2e18c954",
   "metadata": {},
   "source": [
    "# MCQ"
   ]
  },
  {
   "cell_type": "code",
   "execution_count": 7,
   "id": "3c168961",
   "metadata": {
    "vscode": {
     "languageId": "java"
    }
   },
   "outputs": [
    {
     "ename": "CompilationException",
     "evalue": "",
     "output_type": "error",
     "traceback": [
      "\u001b[1m\u001b[30m|   \u001b[1m\u001b[30m\u001b[0m\u001b[1m\u001b[30m\u001b[41mBankAccount.main\u001b[0m\u001b[1m\u001b[30m(null);\u001b[0m",
      "\u001b[1m\u001b[31mcannot find symbol\u001b[0m",
      "\u001b[1m\u001b[31m  symbol:   method main(<nulltype>)\u001b[0m",
      ""
     ]
    }
   ],
   "source": [
    "//QUESTION 1\n",
    "public class BankAccount {\n",
    "    private double balance;\n",
    "    \n",
    "    public BankAccount(double initialBalance) {\n",
    "        balance = initialBalance;\n",
    "    }\n",
    "    \n",
    "    public void deposit(double amount) {\n",
    "        balance += amount;\n",
    "    }\n",
    "    \n",
    "    public double getBalance() {\n",
    "        return balance;\n",
    "    }\n",
    "}\n",
    "BankAccount.main(null);"
   ]
  },
  {
   "cell_type": "markdown",
   "id": "1cb8cbd2",
   "metadata": {},
   "source": [
    "### Answer: B"
   ]
  },
  {
   "cell_type": "code",
   "execution_count": null,
   "id": "3f30f5f5",
   "metadata": {
    "vscode": {
     "languageId": "java"
    }
   },
   "outputs": [
    {
     "name": "stdout",
     "output_type": "stream",
     "text": [
      "48\n"
     ]
    }
   ],
   "source": [
    "//QUESTION 2\n",
    "public class Rectangle {\n",
    "    private int length;\n",
    "    private int width;\n",
    "    \n",
    "    public Rectangle(int l, int w) {\n",
    "        length = l;\n",
    "        width = w;\n",
    "    }\n",
    "    \n",
    "    public int getArea() {\n",
    "        return length * width;\n",
    "    }\n",
    "    \n",
    "    public void scale(int factor) {\n",
    "        length *= factor;\n",
    "        width *= factor;\n",
    "    }\n",
    "}\n",
    "\n",
    "Rectangle rect = new Rectangle(3, 4);\n",
    "rect.scale(2);\n",
    "System.out.println(rect.getArea());"
   ]
  },
  {
   "cell_type": "markdown",
   "id": "ee467b8a",
   "metadata": {},
   "source": [
    "### Answer: C"
   ]
  },
  {
   "cell_type": "markdown",
   "id": "b9c65c58",
   "metadata": {},
   "source": [
    "**QUESTION 3**\n",
    "\n",
    "NullPointerException happens when you call an instance method on a reference that is null/uninitialized."
   ]
  },
  {
   "cell_type": "markdown",
   "id": "e6998c78",
   "metadata": {},
   "source": [
    "### Answer: D"
   ]
  },
  {
   "cell_type": "code",
   "execution_count": 10,
   "id": "5c046bf0",
   "metadata": {
    "vscode": {
     "languageId": "java"
    }
   },
   "outputs": [
    {
     "ename": "CompilationException",
     "evalue": "",
     "output_type": "error",
     "traceback": [
      "\u001b[1m\u001b[30m|   \u001b[1m\u001b[30m\u001b[0m\u001b[1m\u001b[30m\u001b[41mTemperature.main\u001b[0m\u001b[1m\u001b[30m(null);\u001b[0m",
      "\u001b[1m\u001b[31mcannot find symbol\u001b[0m",
      "\u001b[1m\u001b[31m  symbol:   method main(<nulltype>)\u001b[0m",
      ""
     ]
    }
   ],
   "source": [
    "// QUESTION 4\n",
    "public class Temperature {\n",
    "    private double celsius;\n",
    "    \n",
    "    public Temperature(double c) {\n",
    "        celsius = c;\n",
    "    }\n",
    "    \n",
    "    public double getFahrenheit() {\n",
    "        return celsius * 9.0 / 5.0 + 32;\n",
    "    }\n",
    "    \n",
    "    public void setCelsius(double c) {\n",
    "        celsius = c;\n",
    "    }\n",
    "}\n",
    "Temperature.main(null);"
   ]
  },
  {
   "cell_type": "markdown",
   "id": "68b10b85",
   "metadata": {},
   "source": [
    "### Answer: D"
   ]
  },
  {
   "cell_type": "code",
   "execution_count": 12,
   "id": "61819b46",
   "metadata": {
    "vscode": {
     "languageId": "java"
    }
   },
   "outputs": [
    {
     "ename": "CompilationException",
     "evalue": "",
     "output_type": "error",
     "traceback": [
      "\u001b[1m\u001b[30m|   \u001b[1m\u001b[30m\u001b[0m\u001b[1m\u001b[30m\u001b[41mBook.main\u001b[0m\u001b[1m\u001b[30m(null);\u001b[0m",
      "\u001b[1m\u001b[31mcannot find symbol\u001b[0m",
      "\u001b[1m\u001b[31m  symbol:   method main(<nulltype>)\u001b[0m",
      ""
     ]
    }
   ],
   "source": [
    "// QUESTION 5\n",
    "public class Book {\n",
    "    private String title;\n",
    "    private int pages;\n",
    "    \n",
    "    public Book(String t, int p) {\n",
    "        title = t;\n",
    "        pages = p;\n",
    "    }\n",
    "    \n",
    "    public String getTitle() {\n",
    "        return title;\n",
    "    }\n",
    "    \n",
    "    public int getPages() {\n",
    "        return pages;\n",
    "    }\n",
    "    \n",
    "    public void addPages(int additional) {\n",
    "        pages += additional;\n",
    "    }\n",
    "}\n",
    "Book.main(null);\n"
   ]
  },
  {
   "cell_type": "markdown",
   "id": "88e0dc4f",
   "metadata": {
    "vscode": {
     "languageId": "java"
    }
   },
   "source": [
    "### Answer: D"
   ]
  }
 ],
 "metadata": {
  "kernelspec": {
   "display_name": "Java",
   "language": "java",
   "name": "java"
  },
  "language_info": {
   "codemirror_mode": "java",
   "file_extension": ".jshell",
   "mimetype": "text/x-java-source",
   "name": "Java",
   "pygments_lexer": "java",
   "version": "17.0.16+0"
  }
 },
 "nbformat": 4,
 "nbformat_minor": 5
}

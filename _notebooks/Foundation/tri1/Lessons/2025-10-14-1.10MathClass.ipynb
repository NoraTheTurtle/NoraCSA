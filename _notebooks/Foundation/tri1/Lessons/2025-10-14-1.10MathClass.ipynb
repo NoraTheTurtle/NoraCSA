{
 "cells": [
  {
   "cell_type": "markdown",
   "id": "a2176ba9",
   "metadata": {},
   "source": [
    "---\n",
    "title: Math Class\n",
    "description: Student Teaching Lesson\n",
    "layout: post\n",
    "type: hacks\n",
    "comments: true\n",
    "toc: false\n",
    "courses: { compsci: {week: 9} }\n",
    "Author: Gurshawn, Anvay, Akshay\n",
    "---"
   ]
  },
  {
   "cell_type": "markdown",
   "id": "e8094113",
   "metadata": {},
   "source": [
    "# Popcorn Hack 1"
   ]
  },
  {
   "cell_type": "code",
   "execution_count": 2,
   "id": "1bf4ae79",
   "metadata": {
    "vscode": {
     "languageId": "java"
    }
   },
   "outputs": [
    {
     "name": "stdout",
     "output_type": "stream",
     "text": [
      "Level: 10\n",
      "Base Power: 100\n",
      "Final Power: 619.17\n"
     ]
    }
   ],
   "source": [
    "public class PowerCalculator {\n",
    "    public static void main(String[] args) {\n",
    "        int basePower = 100;\n",
    "        int level = 10;  // You can change this or ask user input\n",
    "        double finalPower = basePower * Math.pow(1.2, level);\n",
    "\n",
    "        System.out.println(\"Level: \" + level);\n",
    "        System.out.println(\"Base Power: \" + basePower);\n",
    "        System.out.printf(\"Final Power: %.2f%n\", finalPower);\n",
    "    }\n",
    "}\n",
    "PowerCalculator.main(null);"
   ]
  },
  {
   "cell_type": "markdown",
   "id": "b6154f66",
   "metadata": {},
   "source": [
    "# popcorn Hack 2"
   ]
  },
  {
   "cell_type": "code",
   "execution_count": 4,
   "id": "1e03973e",
   "metadata": {
    "vscode": {
     "languageId": "java"
    }
   },
   "outputs": [
    {
     "name": "stdout",
     "output_type": "stream",
     "text": [
      "Loot Drop!\n",
      "Rarity Roll: 53\n",
      "You got: COMMON item\n",
      "Gold Value: 29\n"
     ]
    }
   ],
   "source": [
    "public class LootDropSim {\n",
    "    public static void main(String[] args) {\n",
    "        System.out.println(\"Loot Drop!\");\n",
    "\n",
    "        // Generate random rarity number (1–100)\n",
    "        int rarityRoll = (int)(Math.random() * 100) + 1;\n",
    "        System.out.println(\"Rarity Roll: \" + rarityRoll);\n",
    "\n",
    "        String rarity;\n",
    "        int goldValue;\n",
    "\n",
    "        if (rarityRoll <= 60) {\n",
    "            rarity = \"COMMON\";\n",
    "            goldValue = (int)(Math.random() * 21) + 10; // 10–30\n",
    "        } else if (rarityRoll <= 85) {\n",
    "            rarity = \"RARE\";\n",
    "            goldValue = (int)(Math.random() * 40) + 31; // 31–70\n",
    "        } else {\n",
    "            rarity = \"LEGENDARY\";\n",
    "            goldValue = (int)(Math.random() * 30) + 71; // 71–100\n",
    "        }\n",
    "\n",
    "        System.out.println(\"You got: \" + rarity + \" item\");\n",
    "        System.out.println(\"Gold Value: \" + goldValue);\n",
    "    }\n",
    "}\n",
    "LootDropSim.main(null);"
   ]
  },
  {
   "cell_type": "markdown",
   "id": "6a3f68d0",
   "metadata": {},
   "source": [
    "---"
   ]
  },
  {
   "cell_type": "markdown",
   "id": "5f41f742",
   "metadata": {},
   "source": [
    "# MCQ"
   ]
  },
  {
   "cell_type": "code",
   "execution_count": 5,
   "id": "827359c4",
   "metadata": {
    "vscode": {
     "languageId": "java"
    }
   },
   "outputs": [
    {
     "name": "stdout",
     "output_type": "stream",
     "text": [
      "2\n"
     ]
    }
   ],
   "source": [
    "//QUESTION 1\n",
    "int n = (int) Math.pow(2, 3.0 / 2);\n",
    "System.out.println(n);"
   ]
  },
  {
   "cell_type": "markdown",
   "id": "16a94210",
   "metadata": {},
   "source": [
    "### Answer: A"
   ]
  },
  {
   "cell_type": "code",
   "execution_count": null,
   "id": "40f36ff8",
   "metadata": {
    "vscode": {
     "languageId": "java"
    }
   },
   "outputs": [
    {
     "name": "stdout",
     "output_type": "stream",
     "text": [
      "8\n"
     ]
    }
   ],
   "source": [
    "//QUESTION 2\n",
    "int r = (int) (Math.random() * 6) + 5;\n",
    "System.out.println(r);"
   ]
  },
  {
   "cell_type": "markdown",
   "id": "4c5ed9e5",
   "metadata": {},
   "source": [
    "### Answer: A"
   ]
  },
  {
   "cell_type": "code",
   "execution_count": 10,
   "id": "358d2195",
   "metadata": {
    "vscode": {
     "languageId": "java"
    }
   },
   "outputs": [
    {
     "name": "stdout",
     "output_type": "stream",
     "text": [
      "-10\n"
     ]
    }
   ],
   "source": [
    "//QUESTION 3\n",
    "long a = Math.round(-3.5);\n",
    "double b = Math.floor(-3.1);\n",
    "double c = Math.ceil(-3.1);\n",
    "int x = (int) a + (int) b + (int) c;\n",
    "System.out.println(x);  "
   ]
  },
  {
   "cell_type": "markdown",
   "id": "89d8dfe3",
   "metadata": {},
   "source": [
    "### Answer: A"
   ]
  },
  {
   "cell_type": "markdown",
   "id": "486249e6",
   "metadata": {},
   "source": [
    "QUESTION 4\n",
    "\n",
    "### Answer: A"
   ]
  },
  {
   "cell_type": "code",
   "execution_count": null,
   "id": "b7f13a01",
   "metadata": {
    "vscode": {
     "languageId": "java"
    }
   },
   "outputs": [
    {
     "name": "stdout",
     "output_type": "stream",
     "text": [
      "25\n"
     ]
    }
   ],
   "source": [
    "//QUESTION 5\n",
    "int a = (int) Math.sqrt(26);\n",
    "int b = (int) Math.sqrt(26);\n",
    "System.out.println(a * b);"
   ]
  },
  {
   "cell_type": "markdown",
   "id": "01c61d35",
   "metadata": {},
   "source": [
    "### Answer: B"
   ]
  },
  {
   "cell_type": "markdown",
   "id": "a7e1309a",
   "metadata": {},
   "source": [
    "---"
   ]
  },
  {
   "cell_type": "markdown",
   "id": "db0e8708",
   "metadata": {},
   "source": [
    "# Homework Hacks"
   ]
  },
  {
   "cell_type": "code",
   "execution_count": null,
   "id": "30f73889",
   "metadata": {
    "vscode": {
     "languageId": "java"
    }
   },
   "outputs": [
    {
     "name": "stdout",
     "output_type": "stream",
     "text": [
      "=== Health Difference Calculator ===\n",
      "Result 1: 45\n",
      "Result 2: 20\n",
      "Result 3: 0\n"
     ]
    }
   ],
   "source": [
    "//PART A\n",
    "public class HealthDifferenceCalculator {\n",
    "    public static int healthDifference(int player1Health, int player2Health) {\n",
    "        return Math.abs(player1Health - player2Health);\n",
    "    }\n",
    "\n",
    "    public static void main(String[] args) {\n",
    "        System.out.println(\"=== Health Difference Calculator ===\");\n",
    "        System.out.println(\"Result 1: \" + healthDifference(75, 120)); // 45\n",
    "        System.out.println(\"Result 2: \" + healthDifference(100, 80)); // 20\n",
    "        System.out.println(\"Result 3: \" + healthDifference(50, 50));  // 0\n",
    "    }\n",
    "}\n",
    "HealthDifferenceCalculator.main(null);"
   ]
  },
  {
   "cell_type": "code",
   "execution_count": 15,
   "id": "ee8b4d26",
   "metadata": {
    "vscode": {
     "languageId": "java"
    }
   },
   "outputs": [
    {
     "name": "stdout",
     "output_type": "stream",
     "text": [
      "=== Attack Damage Calculator ===\n",
      "Result 1: 22.5\n",
      "Result 2: 50.625\n"
     ]
    }
   ],
   "source": [
    "//PART B\n",
    "public class AttackDamageCalculator {\n",
    "    public static double calculateDamage(double baseDamage, double powerLevel) {\n",
    "        return baseDamage * Math.pow(1.5, powerLevel);\n",
    "    }\n",
    "\n",
    "    public static void main(String[] args) {\n",
    "        System.out.println(\"=== Attack Damage Calculator ===\");\n",
    "        System.out.println(\"Result 1: \" + calculateDamage(10.0, 2)); // 22.5\n",
    "        System.out.println(\"Result 2: \" + calculateDamage(15.0, 3)); // 50.625\n",
    "    }\n",
    "}\n",
    "AttackDamageCalculator.main(null);"
   ]
  },
  {
   "cell_type": "code",
   "execution_count": 16,
   "id": "58c5dae2",
   "metadata": {
    "vscode": {
     "languageId": "java"
    }
   },
   "outputs": [
    {
     "name": "stdout",
     "output_type": "stream",
     "text": [
      "=== Distance Detector ===\n",
      "Result 1: 5.0\n",
      "Result 2: 5.0\n"
     ]
    }
   ],
   "source": [
    "//PART C\n",
    "public class DistanceDetector {\n",
    "    public static double findDistance(int playerX, int playerY, int enemyX, int enemyY) {\n",
    "        return Math.sqrt(Math.pow(enemyX - playerX, 2) + Math.pow(enemyY - playerY, 2));\n",
    "    }\n",
    "\n",
    "    public static void main(String[] args) {\n",
    "        System.out.println(\"=== Distance Detector ===\");\n",
    "        System.out.println(\"Result 1: \" + findDistance(0, 0, 3, 4)); // 5.0\n",
    "        System.out.println(\"Result 2: \" + findDistance(1, 1, 4, 5)); // 5.0\n",
    "    }\n",
    "}\n",
    "DistanceDetector.main(null);\n"
   ]
  },
  {
   "cell_type": "code",
   "execution_count": 17,
   "id": "2882498b",
   "metadata": {
    "vscode": {
     "languageId": "java"
    }
   },
   "outputs": [
    {
     "name": "stdout",
     "output_type": "stream",
     "text": [
      "=== Random Loot Generator ===\n",
      "Random Loot (10–50): 17\n",
      "Random Loot (1–6): 5\n",
      "Random Loot (100–100): 100\n"
     ]
    }
   ],
   "source": [
    "public class RandomLootGenerator {\n",
    "    public static int generateLoot(int minValue, int maxValue) {\n",
    "        return (int)(Math.random() * (maxValue - minValue + 1)) + minValue;\n",
    "    }\n",
    "\n",
    "    public static void main(String[] args) {\n",
    "        System.out.println(\"=== Random Loot Generator ===\");\n",
    "        System.out.println(\"Random Loot (10–50): \" + generateLoot(10, 50));\n",
    "        System.out.println(\"Random Loot (1–6): \" + generateLoot(1, 6)); // dice roll\n",
    "        System.out.println(\"Random Loot (100–100): \" + generateLoot(100, 100)); // always 100\n",
    "    }\n",
    "}\n",
    "RandomLootGenerator.main(null);"
   ]
  }
 ],
 "metadata": {
  "kernelspec": {
   "display_name": "Java",
   "language": "java",
   "name": "java"
  },
  "language_info": {
   "codemirror_mode": "java",
   "file_extension": ".jshell",
   "mimetype": "text/x-java-source",
   "name": "Java",
   "pygments_lexer": "java",
   "version": "17.0.16+0"
  }
 },
 "nbformat": 4,
 "nbformat_minor": 5
}

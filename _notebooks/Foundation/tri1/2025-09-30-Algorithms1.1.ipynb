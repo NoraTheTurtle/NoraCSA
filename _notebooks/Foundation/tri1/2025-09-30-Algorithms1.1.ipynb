{
 "cells": [
  {
   "cell_type": "markdown",
   "id": "f32c7e6a",
   "metadata": {},
   "source": [
    "---\n",
    "title: Algorithms\n",
    "description: Student Teaching Lesson\n",
    "layout: post\n",
    "type: hacks\n",
    "comments: true\n",
    "toc: false\n",
    "courses: { compsci: {week: 7} }\n",
    "Author: Pranav, Rohan, Samita\n",
    "---"
   ]
  },
  {
   "cell_type": "markdown",
   "id": "d538037d",
   "metadata": {},
   "source": [
    "# Popcorn Hack/interctive portion"
   ]
  },
  {
   "cell_type": "markdown",
   "id": "8100d701",
   "metadata": {},
   "source": [
    "![PopcornHack]({{site.baseurl}}/images/1.1PopcornHack.png)"
   ]
  },
  {
   "cell_type": "markdown",
   "id": "37f750d0",
   "metadata": {},
   "source": [
    "# Homework Hack 1"
   ]
  },
  {
   "cell_type": "markdown",
   "id": "21f84d58",
   "metadata": {},
   "source": [
    "### Algorithm: Getting Ready for a Basketball Game\n",
    "\n",
    "1. Put on your uniform.\n",
    "\n",
    "2. Pack your bag with water, towel, and gear.\n",
    "\n",
    "3. Eat a light meal for energy.\n",
    "\n",
    "4. Fill your water bottle.\n",
    "\n",
    "5. Sretch to warm up.\n",
    "\n",
    "6. Change into clean game clothes.\n",
    "\n",
    "7. Go to the gym early.\n",
    "\n",
    "8. Tie your shoes and get ready to play."
   ]
  },
  {
   "cell_type": "markdown",
   "id": "7dccebeb",
   "metadata": {},
   "source": [
    "# Homework Hack 2"
   ]
  },
  {
   "cell_type": "markdown",
   "id": "ab6f814a",
   "metadata": {},
   "source": [
    "### Corrected Algorithm: Send an Email\n",
    "\n",
    "1. Open email application\n",
    "\n",
    "2. Log into your account\n",
    "\n",
    "3. Enter recipient's email address\n",
    "\n",
    "4. Write subject line\n",
    "\n",
    "5. Type the message\n",
    "\n",
    "6. Click \"Send\"\n"
   ]
  },
  {
   "cell_type": "markdown",
   "id": "110a03f8",
   "metadata": {},
   "source": [
    "### Hack 3: Code the Algorithm\n",
    "\n",
    "Convert this algorithm into working Python code:\n",
    "\n",
    "```\n",
    "Algorithm: Grade Calculator\n",
    "1. Get three test scores from user\n",
    "2. Add them together\n",
    "3. Divide by 3 to get average\n",
    "4. If average >= 90, grade is A\n",
    "5. If average >= 80, grade is B\n",
    "6. If average >= 70, grade is C\n",
    "7. If average >= 60, grade is D\n",
    "8. Otherwise, grade is F\n",
    "9. Display the grade\n",
    "```\n",
    "\n",
    "### Example Response"
   ]
  },
  {
   "cell_type": "code",
   "execution_count": 4,
   "id": "acec3f25",
   "metadata": {},
   "outputs": [
    {
     "name": "stdout",
     "output_type": "stream",
     "text": [
      "Test 1: A\n",
      "Test 2: B\n",
      "Test 3: C\n",
      "Test 4: D\n",
      "Test 5: F\n"
     ]
    }
   ],
   "source": [
    "def calculate_grade(score1, score2, score3):\n",
    "    \"\"\"\n",
    "    Calculate letter grade from three test scores.\n",
    "    \"\"\"\n",
    "    # Step 1: Add the three scores together\n",
    "    total = score1 + score2 + score3\n",
    "\n",
    "    # Step 2: Calculate the average\n",
    "    average = total / 3\n",
    "\n",
    "    # Step 3: Determine the letter grade\n",
    "    if average >= 90:\n",
    "        grade = 'A'\n",
    "    elif average >= 80:\n",
    "        grade = 'B'\n",
    "    elif average >= 70:\n",
    "        grade = 'C'\n",
    "    elif average >= 60:\n",
    "        grade = 'D'\n",
    "    else:\n",
    "        grade = 'F'\n",
    "\n",
    "    # Step 4: Return the grade\n",
    "    return grade\n",
    "\n",
    "# Test the function\n",
    "print(\"Test 1:\", calculate_grade(95, 92, 88))  # A\n",
    "print(\"Test 2:\", calculate_grade(85, 80, 82))  # B\n",
    "print(\"Test 3:\", calculate_grade(75, 70, 72))  # C\n",
    "print(\"Test 4:\", calculate_grade(65, 60, 62))  # D\n",
    "print(\"Test 5:\", calculate_grade(55, 50, 52))  # F\n"
   ]
  }
 ],
 "metadata": {
  "kernelspec": {
   "display_name": "Python 3",
   "language": "python",
   "name": "python3"
  },
  "language_info": {
   "codemirror_mode": {
    "name": "ipython",
    "version": 3
   },
   "file_extension": ".py",
   "mimetype": "text/x-python",
   "name": "python",
   "nbconvert_exporter": "python",
   "pygments_lexer": "ipython3",
   "version": "3.9.6"
  }
 },
 "nbformat": 4,
 "nbformat_minor": 5
}

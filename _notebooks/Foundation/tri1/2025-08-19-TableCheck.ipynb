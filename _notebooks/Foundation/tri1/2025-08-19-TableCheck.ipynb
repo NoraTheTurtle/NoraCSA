{
 "cells": [
  {
   "cell_type": "markdown",
   "id": "396c91a9",
   "metadata": {},
   "source": [
    "---\n",
    "title: Skills Check\n",
    "description: Table reflection of skills\n",
    "layout: post\n",
    "type: tangibles\n",
    "comments: true\n",
    "toc: false\n",
    "courses: { compsci: {week: 5} }\n",
    "---"
   ]
  },
  {
   "cell_type": "markdown",
   "id": "51f7a5ed",
   "metadata": {},
   "source": [
    "| Skill                              | Mastered (Y/N) | Rank (0-5) | Mastery Score (Pct) | Notes/Evidence                                                                 |\n",
    "|------------------------------------|----------------|-------------|----------------------|---------------------------------------------------------------------------------|\n",
    "| Laptop Verification or Cloud Workspace | Y |  4.5 | 90.5% |  Repos running, VS code works, can make without any issues! (Small struggles with ) |\n",
    "| VSCode Setup & Usage               | Y            | 4.5 | 90.5%                 | Knows how to run, open, and fix bugs on VS code |\n",
    "| VSCode Sharing and Collaboration   | Y  | 4   | 90%                 | Created clone of repo to be shared with team, divided up work on diffrent forks and utalized pull requests to bring it all together |\n",
    "| Student Repository Creation        | Y | 4 | 90%                 |need to finish organizing the tables for each sprint and personalizing more |\n",
    "| Hacks: Tools & Equipment           | Y | 4.5 | 90.5% | Continued to learn bug fixes in VS code and helped CSSE students with their tools/equipment journey |\n",
    "| Hacks: Portfolio and Blogging      | Y | 4 | 90%| Organizing work into tables on personal blog, and planning out ideas through the use of kanban boards/issues as doccumentation |\n",
    "| Hacks: Theme, Style, Layout        | Y | 4 | 90%                 | personalization on my personal repo as well as planning for personalization on project repo |\n",
    "| Hacks: JavaScript Frontend Basics  | Y | 4.5   | 90.5% | Deep understanding of frontend code, as well as frontend to backened connection|\n",
    "| AI Evidence in Work                | Y | 4.5       | 90.5%                 | Used AI in making simple games (like the connect 4 game) |\n",
    "| Manifesto Evidence                 | Y  | 4.5 | 90.5%                 | Teaching CSSE student, Live reviewing in teams, ideating together! |\n",
    "| Learning Through Mistakes          | Y | 4  | 90%                 | Need to add more documentation on failures/works in progress, learned from issues and was able to teach younger students|\n",
    "| **Total Points**  | 47 |         | 993% | Sum of Columns                                                                  |\n",
    "| **Mastery Score**  | 4.27 | 0.0         | 90.27%                 | Average of Columns                                                              |\n"
   ]
  },
  {
   "cell_type": "markdown",
   "id": "c8556bd1",
   "metadata": {},
   "source": [
    "| Skill                  | Mastered (Y/N) | Self Rank (1-5) | Peer Rank (1-5) | Teacher Rank (1-5) | Average | Notes/Evidence |\n",
    "|-------------------------|----------------|-----------------|-----------------|---------------------|---------|----------------|\n",
    "| 🎯 **Core Behaviors**   |                |                 |                 |                     |         |                |\n",
    "| Attendance             | Y | 5 | 5 | _                  | _     | Always ontime/in class! |\n",
    "| Work Habits            | Y | 4 | 4 | _ | _ | Ideating on whiteboards, organizing work on kanban board, helping CSSE students in office hours|\n",
    "| Behavior               | Y | 5 | 5 | _ | _     | I try to include everyone in the team and evlaute all ideas before making a plan |\n",
    "| Timeliness             | Y | 3 | 4 | _ | _   | I procrationate often and am working on planning out my work to finish it in a timely mannor|\n",
    "| 💻 **Technical Skills** |                |                 |                 |                     |         |                |\n",
    "| Tech/Cyber Sense       | Y | 4 | 4 | _ | _  | I understand most issues and code, having a good knowlage of full stack development|\n",
    "| Tech/Cyber Talk        | Y | 3 | 4 | _ | _  | I struggle with including a more technical focus in my live reivews, this is something I plan to work on this year in CSA|\n",
    "| Tech Growth            | Y | 5 | 5 | _ | _  | Ive grown a lot from not knowing anything to creating full websites with front to backend connection!|\n",
    "| 🤝 **Collaboration**    |                |                 |                 |                     |         |                |\n",
    "| Advocacy               | Y | 5 | 5 | _ | _  | Im not scared to ask questions or to lead my group to one idea/focus|\n",
    "| Communication & Collab | Y | 5 | 5 | _ | _  | As scrum master I try to divide work up evenly and include everyones ideas in our finalized plan |\n",
    "| 🎨 **Professional Skills** |             |                 |                 |                     |         |                |\n",
    "| Integrity              | Y | 5 | 5 | _ | _    |                |\n",
    "| Organization           | Y | 3 | 4 | _ | _    |                |\n",
    "| 📈 **TOTALS**           | | 47 | 50 |  |     |                |\n",
    "| 🎯 **AVERAGE SCORE**    | | 4.27 | 4.5 | |     |                |\n"
   ]
  }
 ],
 "metadata": {
  "language_info": {
   "name": "python"
  }
 },
 "nbformat": 4,
 "nbformat_minor": 5
}

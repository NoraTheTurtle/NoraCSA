{
 "cells": [
  {
   "cell_type": "markdown",
   "id": "5d4b7dd1",
   "metadata": {},
   "source": [
    "---\n",
    "title: Method Signatures\n",
    "description: Student Teaching Lesson\n",
    "layout: post\n",
    "type: hacks\n",
    "comments: true\n",
    "toc: false\n",
    "courses: { compsci: {week: 8} }\n",
    "Author: Aashray, Sai, Manas\n",
    "---"
   ]
  },
  {
   "cell_type": "markdown",
   "id": "0993614f",
   "metadata": {},
   "source": [
    "# Popcorn Hack 1"
   ]
  },
  {
   "cell_type": "code",
   "execution_count": 2,
   "id": "34f43c83",
   "metadata": {
    "vscode": {
     "languageId": "java"
    }
   },
   "outputs": [
    {
     "name": "stdout",
     "output_type": "stream",
     "text": [
      "9\n",
      "-2\n",
      "3.5\n",
      "2.0\n"
     ]
    }
   ],
   "source": [
    "public class PopcornMax {\n",
    "    // int overload\n",
    "    public static int max(int a, int b) {\n",
    "        return a >= b ? a : b;\n",
    "    }\n",
    "\n",
    "    // double overload\n",
    "    public static double max(double a, double b) {\n",
    "        return a >= b ? a : b;\n",
    "    }\n",
    "\n",
    "    public static void main(String[] args) {\n",
    "        System.out.println(max(3, 9));      // 9\n",
    "        System.out.println(max(-2, -7));    // -2\n",
    "        System.out.println(max(3.5, 2.9));  // 3.5\n",
    "        System.out.println(max(2, 2.0));    // 2.0  (int 2 promoted to double → calls max(double,double))\n",
    "    }\n",
    "}\n",
    "PopcornMax.main(null);"
   ]
  },
  {
   "cell_type": "markdown",
   "id": "45b42405",
   "metadata": {},
   "source": [
    "# Popcorn Hack 2"
   ]
  },
  {
   "cell_type": "code",
   "execution_count": 4,
   "id": "7d079e54",
   "metadata": {
    "vscode": {
     "languageId": "java"
    }
   },
   "outputs": [
    {
     "name": "stdout",
     "output_type": "stream",
     "text": [
      "int:42\n",
      "str:hello\n",
      "str:A!\n"
     ]
    }
   ],
   "source": [
    "public class PopcornPrint {\n",
    "    static void print(int n) {\n",
    "        System.out.println(\"int:\" + n);\n",
    "    }\n",
    "\n",
    "    static void print(String s) {\n",
    "        System.out.println(\"str:\" + s);\n",
    "    }\n",
    "\n",
    "    public static void main(String[] args) {\n",
    "        print(42);          // expected: int:42\n",
    "        print(\"hello\");     // expected: str:hello\n",
    "        print('A' + \"!\");   // expected: str:A!\n",
    "    }\n",
    "}\n",
    "PopcornPrint.main(null);"
   ]
  },
  {
   "cell_type": "markdown",
   "id": "5f05f5d7",
   "metadata": {},
   "source": [
    "---"
   ]
  },
  {
   "cell_type": "markdown",
   "id": "480c988e",
   "metadata": {},
   "source": [
    "# FRQ"
   ]
  },
  {
   "cell_type": "code",
   "execution_count": 6,
   "id": "94f0e38c",
   "metadata": {
    "vscode": {
     "languageId": "java"
    }
   },
   "outputs": [
    {
     "name": "stdout",
     "output_type": "stream",
     "text": [
      "15\n",
      "28.274333882308138\n",
      "12\n",
      "45/50\n",
      "92.4%\n"
     ]
    }
   ],
   "source": [
    "public class FrqTemplates {\n",
    "    // FRQ 1\n",
    "    public static int sumRange(int start, int end) {\n",
    "        if (start > end) return 0;\n",
    "        int sum = 0;\n",
    "        for (int n = start; n <= end; n++) {\n",
    "            sum += n;\n",
    "        }\n",
    "        return sum;\n",
    "    }\n",
    "\n",
    "    // FRQ 2\n",
    "    public static double area(double radius) {\n",
    "        return Math.PI * radius * radius;\n",
    "    }\n",
    "    public static int area(int width, int height) {\n",
    "        return width * height;\n",
    "    }\n",
    "\n",
    "    // FRQ 3\n",
    "    public static String formatScore(int earned, int total) {\n",
    "        return earned + \"/\" + total;\n",
    "    }\n",
    "    public static String formatScore(double percent) {\n",
    "        return String.format(\"%.1f%%\", percent);\n",
    "    }\n",
    "\n",
    "    public static void main(String[] args) {\n",
    "        System.out.println(sumRange(1, 5));      // expected: 15\n",
    "        System.out.println(area(3.0));           // expected: ~28.274333882308138\n",
    "        System.out.println(area(3, 4));          // expected: 12\n",
    "        System.out.println(formatScore(45, 50)); // expected: 45/50\n",
    "        System.out.println(formatScore(92.35));  // expected: 92.4%\n",
    "    }\n",
    "}\n",
    "FrqTemplates.main(null);"
   ]
  }
 ],
 "metadata": {
  "kernelspec": {
   "display_name": "Java",
   "language": "java",
   "name": "java"
  },
  "language_info": {
   "codemirror_mode": "java",
   "file_extension": ".jshell",
   "mimetype": "text/x-java-source",
   "name": "Java",
   "pygments_lexer": "java",
   "version": "17.0.16+0"
  }
 },
 "nbformat": 4,
 "nbformat_minor": 5
}
